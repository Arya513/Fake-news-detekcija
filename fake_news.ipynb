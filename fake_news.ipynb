{
 "cells": [
  {
   "cell_type": "markdown",
   "metadata": {},
   "source": [
    "# Fake news detekcija"
   ]
  },
  {
   "cell_type": "markdown",
   "metadata": {},
   "source": [
    "## Učitavanje, analiza  i obrada podataka"
   ]
  },
  {
   "cell_type": "code",
   "execution_count": 256,
   "metadata": {},
   "outputs": [],
   "source": [
    "import pandas as pd"
   ]
  },
  {
   "cell_type": "code",
   "execution_count": 257,
   "metadata": {},
   "outputs": [
    {
     "data": {
      "text/html": [
       "<div>\n",
       "<style scoped>\n",
       "    .dataframe tbody tr th:only-of-type {\n",
       "        vertical-align: middle;\n",
       "    }\n",
       "\n",
       "    .dataframe tbody tr th {\n",
       "        vertical-align: top;\n",
       "    }\n",
       "\n",
       "    .dataframe thead th {\n",
       "        text-align: right;\n",
       "    }\n",
       "</style>\n",
       "<table border=\"1\" class=\"dataframe\">\n",
       "  <thead>\n",
       "    <tr style=\"text-align: right;\">\n",
       "      <th></th>\n",
       "      <th>id</th>\n",
       "      <th>title</th>\n",
       "      <th>author</th>\n",
       "      <th>text</th>\n",
       "      <th>label</th>\n",
       "    </tr>\n",
       "  </thead>\n",
       "  <tbody>\n",
       "    <tr>\n",
       "      <th>0</th>\n",
       "      <td>0</td>\n",
       "      <td>House Dem Aide: We Didn’t Even See Comey’s Let...</td>\n",
       "      <td>Darrell Lucus</td>\n",
       "      <td>House Dem Aide: We Didn’t Even See Comey’s Let...</td>\n",
       "      <td>1</td>\n",
       "    </tr>\n",
       "    <tr>\n",
       "      <th>1</th>\n",
       "      <td>1</td>\n",
       "      <td>FLYNN: Hillary Clinton, Big Woman on Campus - ...</td>\n",
       "      <td>Daniel J. Flynn</td>\n",
       "      <td>Ever get the feeling your life circles the rou...</td>\n",
       "      <td>0</td>\n",
       "    </tr>\n",
       "    <tr>\n",
       "      <th>2</th>\n",
       "      <td>2</td>\n",
       "      <td>Why the Truth Might Get You Fired</td>\n",
       "      <td>Consortiumnews.com</td>\n",
       "      <td>Why the Truth Might Get You Fired October 29, ...</td>\n",
       "      <td>1</td>\n",
       "    </tr>\n",
       "    <tr>\n",
       "      <th>3</th>\n",
       "      <td>3</td>\n",
       "      <td>15 Civilians Killed In Single US Airstrike Hav...</td>\n",
       "      <td>Jessica Purkiss</td>\n",
       "      <td>Videos 15 Civilians Killed In Single US Airstr...</td>\n",
       "      <td>1</td>\n",
       "    </tr>\n",
       "    <tr>\n",
       "      <th>4</th>\n",
       "      <td>4</td>\n",
       "      <td>Iranian woman jailed for fictional unpublished...</td>\n",
       "      <td>Howard Portnoy</td>\n",
       "      <td>Print \\nAn Iranian woman has been sentenced to...</td>\n",
       "      <td>1</td>\n",
       "    </tr>\n",
       "    <tr>\n",
       "      <th>5</th>\n",
       "      <td>5</td>\n",
       "      <td>Jackie Mason: Hollywood Would Love Trump if He...</td>\n",
       "      <td>Daniel Nussbaum</td>\n",
       "      <td>In these trying times, Jackie Mason is the Voi...</td>\n",
       "      <td>0</td>\n",
       "    </tr>\n",
       "    <tr>\n",
       "      <th>6</th>\n",
       "      <td>6</td>\n",
       "      <td>Life: Life Of Luxury: Elton John’s 6 Favorite ...</td>\n",
       "      <td>NaN</td>\n",
       "      <td>Ever wonder how Britain’s most iconic pop pian...</td>\n",
       "      <td>1</td>\n",
       "    </tr>\n",
       "    <tr>\n",
       "      <th>7</th>\n",
       "      <td>7</td>\n",
       "      <td>Benoît Hamon Wins French Socialist Party’s Pre...</td>\n",
       "      <td>Alissa J. Rubin</td>\n",
       "      <td>PARIS  —   France chose an idealistic, traditi...</td>\n",
       "      <td>0</td>\n",
       "    </tr>\n",
       "    <tr>\n",
       "      <th>8</th>\n",
       "      <td>8</td>\n",
       "      <td>Excerpts From a Draft Script for Donald Trump’...</td>\n",
       "      <td>NaN</td>\n",
       "      <td>Donald J. Trump is scheduled to make a highly ...</td>\n",
       "      <td>0</td>\n",
       "    </tr>\n",
       "    <tr>\n",
       "      <th>9</th>\n",
       "      <td>9</td>\n",
       "      <td>A Back-Channel Plan for Ukraine and Russia, Co...</td>\n",
       "      <td>Megan Twohey and Scott Shane</td>\n",
       "      <td>A week before Michael T. Flynn resigned as nat...</td>\n",
       "      <td>0</td>\n",
       "    </tr>\n",
       "  </tbody>\n",
       "</table>\n",
       "</div>"
      ],
      "text/plain": [
       "   id                                              title  \\\n",
       "0   0  House Dem Aide: We Didn’t Even See Comey’s Let...   \n",
       "1   1  FLYNN: Hillary Clinton, Big Woman on Campus - ...   \n",
       "2   2                  Why the Truth Might Get You Fired   \n",
       "3   3  15 Civilians Killed In Single US Airstrike Hav...   \n",
       "4   4  Iranian woman jailed for fictional unpublished...   \n",
       "5   5  Jackie Mason: Hollywood Would Love Trump if He...   \n",
       "6   6  Life: Life Of Luxury: Elton John’s 6 Favorite ...   \n",
       "7   7  Benoît Hamon Wins French Socialist Party’s Pre...   \n",
       "8   8  Excerpts From a Draft Script for Donald Trump’...   \n",
       "9   9  A Back-Channel Plan for Ukraine and Russia, Co...   \n",
       "\n",
       "                         author  \\\n",
       "0                 Darrell Lucus   \n",
       "1               Daniel J. Flynn   \n",
       "2            Consortiumnews.com   \n",
       "3               Jessica Purkiss   \n",
       "4                Howard Portnoy   \n",
       "5               Daniel Nussbaum   \n",
       "6                           NaN   \n",
       "7               Alissa J. Rubin   \n",
       "8                           NaN   \n",
       "9  Megan Twohey and Scott Shane   \n",
       "\n",
       "                                                text  label  \n",
       "0  House Dem Aide: We Didn’t Even See Comey’s Let...      1  \n",
       "1  Ever get the feeling your life circles the rou...      0  \n",
       "2  Why the Truth Might Get You Fired October 29, ...      1  \n",
       "3  Videos 15 Civilians Killed In Single US Airstr...      1  \n",
       "4  Print \\nAn Iranian woman has been sentenced to...      1  \n",
       "5  In these trying times, Jackie Mason is the Voi...      0  \n",
       "6  Ever wonder how Britain’s most iconic pop pian...      1  \n",
       "7  PARIS  —   France chose an idealistic, traditi...      0  \n",
       "8  Donald J. Trump is scheduled to make a highly ...      0  \n",
       "9  A week before Michael T. Flynn resigned as nat...      0  "
      ]
     },
     "execution_count": 257,
     "metadata": {},
     "output_type": "execute_result"
    }
   ],
   "source": [
    "data = pd.read_csv(\"train.csv\")\n",
    "data.head(10)"
   ]
  },
  {
   "cell_type": "code",
   "execution_count": 258,
   "metadata": {},
   "outputs": [
    {
     "name": "stdout",
     "output_type": "stream",
     "text": [
      "<class 'pandas.core.frame.DataFrame'>\n",
      "RangeIndex: 20800 entries, 0 to 20799\n",
      "Data columns (total 5 columns):\n",
      " #   Column  Non-Null Count  Dtype \n",
      "---  ------  --------------  ----- \n",
      " 0   id      20800 non-null  int64 \n",
      " 1   title   20242 non-null  object\n",
      " 2   author  18843 non-null  object\n",
      " 3   text    20761 non-null  object\n",
      " 4   label   20800 non-null  int64 \n",
      "dtypes: int64(2), object(3)\n",
      "memory usage: 812.6+ KB\n"
     ]
    }
   ],
   "source": [
    "data.info()"
   ]
  },
  {
   "cell_type": "markdown",
   "metadata": {},
   "source": [
    " "
   ]
  },
  {
   "cell_type": "markdown",
   "metadata": {},
   "source": [
    "Broj novinskih članaka u ovom podatkovnom skupu: "
   ]
  },
  {
   "cell_type": "code",
   "execution_count": 259,
   "metadata": {},
   "outputs": [
    {
     "data": {
      "text/plain": [
       "20800"
      ]
     },
     "execution_count": 259,
     "metadata": {},
     "output_type": "execute_result"
    }
   ],
   "source": [
    "data.shape[0]"
   ]
  },
  {
   "cell_type": "markdown",
   "metadata": {},
   "source": [
    "U nekim stupcima nedostaju neke vrijednosti. Izvođenjem iduće naredbe se može vidjeti koliko vrijednosti nedostaje za pojedinu značajku."
   ]
  },
  {
   "cell_type": "code",
   "execution_count": 260,
   "metadata": {},
   "outputs": [
    {
     "data": {
      "text/plain": [
       "id           0\n",
       "title      558\n",
       "author    1957\n",
       "text        39\n",
       "label        0\n",
       "dtype: int64"
      ]
     },
     "execution_count": 260,
     "metadata": {},
     "output_type": "execute_result"
    }
   ],
   "source": [
    "data.isnull().sum()"
   ]
  },
  {
   "cell_type": "markdown",
   "metadata": {},
   "source": [
    "Za predviđanje lažnih vijesti koristit će se naslov i sadržaj novinskog članka.\n",
    "\n"
   ]
  },
  {
   "cell_type": "code",
   "execution_count": 261,
   "metadata": {},
   "outputs": [],
   "source": [
    "data = data.drop([\"id\", \"author\"], axis=1)"
   ]
  },
  {
   "cell_type": "markdown",
   "metadata": {},
   "source": [
    "Nakon micanja pojedinih značajki, za daljnu obradu podatkovnog skupa, NaN vrijednosti su zamijenjene znakovnim nizom duljine nula."
   ]
  },
  {
   "cell_type": "code",
   "execution_count": 262,
   "metadata": {},
   "outputs": [
    {
     "data": {
      "text/html": [
       "<div>\n",
       "<style scoped>\n",
       "    .dataframe tbody tr th:only-of-type {\n",
       "        vertical-align: middle;\n",
       "    }\n",
       "\n",
       "    .dataframe tbody tr th {\n",
       "        vertical-align: top;\n",
       "    }\n",
       "\n",
       "    .dataframe thead th {\n",
       "        text-align: right;\n",
       "    }\n",
       "</style>\n",
       "<table border=\"1\" class=\"dataframe\">\n",
       "  <thead>\n",
       "    <tr style=\"text-align: right;\">\n",
       "      <th></th>\n",
       "      <th>title</th>\n",
       "      <th>text</th>\n",
       "      <th>label</th>\n",
       "    </tr>\n",
       "  </thead>\n",
       "  <tbody>\n",
       "    <tr>\n",
       "      <th>0</th>\n",
       "      <td>House Dem Aide: We Didn’t Even See Comey’s Let...</td>\n",
       "      <td>House Dem Aide: We Didn’t Even See Comey’s Let...</td>\n",
       "      <td>1</td>\n",
       "    </tr>\n",
       "    <tr>\n",
       "      <th>1</th>\n",
       "      <td>FLYNN: Hillary Clinton, Big Woman on Campus - ...</td>\n",
       "      <td>Ever get the feeling your life circles the rou...</td>\n",
       "      <td>0</td>\n",
       "    </tr>\n",
       "    <tr>\n",
       "      <th>2</th>\n",
       "      <td>Why the Truth Might Get You Fired</td>\n",
       "      <td>Why the Truth Might Get You Fired October 29, ...</td>\n",
       "      <td>1</td>\n",
       "    </tr>\n",
       "    <tr>\n",
       "      <th>3</th>\n",
       "      <td>15 Civilians Killed In Single US Airstrike Hav...</td>\n",
       "      <td>Videos 15 Civilians Killed In Single US Airstr...</td>\n",
       "      <td>1</td>\n",
       "    </tr>\n",
       "    <tr>\n",
       "      <th>4</th>\n",
       "      <td>Iranian woman jailed for fictional unpublished...</td>\n",
       "      <td>Print \\nAn Iranian woman has been sentenced to...</td>\n",
       "      <td>1</td>\n",
       "    </tr>\n",
       "    <tr>\n",
       "      <th>...</th>\n",
       "      <td>...</td>\n",
       "      <td>...</td>\n",
       "      <td>...</td>\n",
       "    </tr>\n",
       "    <tr>\n",
       "      <th>20795</th>\n",
       "      <td>Rapper T.I.: Trump a ’Poster Child For White S...</td>\n",
       "      <td>Rapper T. I. unloaded on black celebrities who...</td>\n",
       "      <td>0</td>\n",
       "    </tr>\n",
       "    <tr>\n",
       "      <th>20796</th>\n",
       "      <td>N.F.L. Playoffs: Schedule, Matchups and Odds -...</td>\n",
       "      <td>When the Green Bay Packers lost to the Washing...</td>\n",
       "      <td>0</td>\n",
       "    </tr>\n",
       "    <tr>\n",
       "      <th>20797</th>\n",
       "      <td>Macy’s Is Said to Receive Takeover Approach by...</td>\n",
       "      <td>The Macy’s of today grew from the union of sev...</td>\n",
       "      <td>0</td>\n",
       "    </tr>\n",
       "    <tr>\n",
       "      <th>20798</th>\n",
       "      <td>NATO, Russia To Hold Parallel Exercises In Bal...</td>\n",
       "      <td>NATO, Russia To Hold Parallel Exercises In Bal...</td>\n",
       "      <td>1</td>\n",
       "    </tr>\n",
       "    <tr>\n",
       "      <th>20799</th>\n",
       "      <td>What Keeps the F-35 Alive</td>\n",
       "      <td>David Swanson is an author, activist, journa...</td>\n",
       "      <td>1</td>\n",
       "    </tr>\n",
       "  </tbody>\n",
       "</table>\n",
       "<p>20800 rows × 3 columns</p>\n",
       "</div>"
      ],
      "text/plain": [
       "                                                   title  \\\n",
       "0      House Dem Aide: We Didn’t Even See Comey’s Let...   \n",
       "1      FLYNN: Hillary Clinton, Big Woman on Campus - ...   \n",
       "2                      Why the Truth Might Get You Fired   \n",
       "3      15 Civilians Killed In Single US Airstrike Hav...   \n",
       "4      Iranian woman jailed for fictional unpublished...   \n",
       "...                                                  ...   \n",
       "20795  Rapper T.I.: Trump a ’Poster Child For White S...   \n",
       "20796  N.F.L. Playoffs: Schedule, Matchups and Odds -...   \n",
       "20797  Macy’s Is Said to Receive Takeover Approach by...   \n",
       "20798  NATO, Russia To Hold Parallel Exercises In Bal...   \n",
       "20799                          What Keeps the F-35 Alive   \n",
       "\n",
       "                                                    text  label  \n",
       "0      House Dem Aide: We Didn’t Even See Comey’s Let...      1  \n",
       "1      Ever get the feeling your life circles the rou...      0  \n",
       "2      Why the Truth Might Get You Fired October 29, ...      1  \n",
       "3      Videos 15 Civilians Killed In Single US Airstr...      1  \n",
       "4      Print \\nAn Iranian woman has been sentenced to...      1  \n",
       "...                                                  ...    ...  \n",
       "20795  Rapper T. I. unloaded on black celebrities who...      0  \n",
       "20796  When the Green Bay Packers lost to the Washing...      0  \n",
       "20797  The Macy’s of today grew from the union of sev...      0  \n",
       "20798  NATO, Russia To Hold Parallel Exercises In Bal...      1  \n",
       "20799    David Swanson is an author, activist, journa...      1  \n",
       "\n",
       "[20800 rows x 3 columns]"
      ]
     },
     "execution_count": 262,
     "metadata": {},
     "output_type": "execute_result"
    }
   ],
   "source": [
    "data.fillna(\"\")"
   ]
  },
  {
   "cell_type": "markdown",
   "metadata": {},
   "source": [
    " "
   ]
  },
  {
   "cell_type": "code",
   "execution_count": 263,
   "metadata": {},
   "outputs": [],
   "source": [
    "data[\"title_and_text\"] = data[\"title\"] + \" \" + data[\"text\"]\n",
    "D = data[\"title_and_text\"].tolist()\n",
    "label = data[\"label\"].tolist()"
   ]
  },
  {
   "cell_type": "markdown",
   "metadata": {},
   "source": [
    "Uvidom u tekst pojedinih članaka vidljivo je da je potrebno napraviti neke izmjene na njemu prije nego što se isti preda modelu za treniranje i validaciju. \n",
    "Neke od tih promjena su pretvaranje velikih slova u mala, micanje interpunkcijskih znakova, micanje drugih posebnih znakova, itd."
   ]
  },
  {
   "cell_type": "code",
   "execution_count": 264,
   "metadata": {},
   "outputs": [],
   "source": [
    "import re\n",
    "import string"
   ]
  },
  {
   "cell_type": "code",
   "execution_count": 265,
   "metadata": {},
   "outputs": [],
   "source": [
    "def clean_text(text: str) -> str:\n",
    "    \n",
    "    # mala slova\n",
    "    text = str(text).lower()\n",
    "    \n",
    "    # micanje brojeva\n",
    "    text = re.sub('\\w*\\d\\w*', '', text)    \n",
    "        \n",
    "    # micanje #...\n",
    "    text = re.sub(\"#\\S+\", \" \", text)\n",
    "    \n",
    "    # micanje @...\n",
    "    text = re.sub(\"@\\S+\", \" \", text)\n",
    "    \n",
    "    # micanje teksta oblika [...]\n",
    "    text = re.sub('\\[.*?\\]', '', text)\n",
    "    \n",
    "    # micanje npr. HTML tagova\n",
    "    text = re.sub('<.*?>+', '', text)\n",
    "     \n",
    "    # micanje URL-a\n",
    "    text = re.sub('https*\\S+', '', text)\n",
    "    \n",
    "    # micanje \\n\n",
    "    text = re.sub('\\n', '', text)\n",
    "    \n",
    "    # micanje interpunkcijskih znakova\n",
    "    text = re.sub('[%s]' % re.escape(string.punctuation), '', text)\n",
    "    \n",
    "    # micanje vise praznina\n",
    "    text = re.sub('\\s{2,}', \" \", text)\n",
    "    \n",
    "    # micanje npr. emotikona\n",
    "    text = text.encode('ascii', 'ignore').decode()\n",
    "    \n",
    "    # micanje svega sto nije rijec\n",
    "    text = re.sub(\"\\\\W\",\" \",text)\n",
    "   \n",
    "    text = text.strip()\n",
    "    \n",
    "    return text"
   ]
  },
  {
   "cell_type": "code",
   "execution_count": 266,
   "metadata": {},
   "outputs": [],
   "source": [
    "from nltk.stem.snowball import SnowballStemmer\n",
    "from nltk.corpus import stopwords\n",
    "from nltk.tokenize import word_tokenize"
   ]
  },
  {
   "cell_type": "code",
   "execution_count": 267,
   "metadata": {},
   "outputs": [],
   "source": [
    "def preprocess(text: str) -> str:\n",
    "    \n",
    "    stop = stopwords.words('english')\n",
    "    tokens = word_tokenize(text)\n",
    "    stemmer = SnowballStemmer('english')\n",
    "    words = [stemmer.stem(w) for w in tokens if w not in stop]\n",
    " \n",
    "    return \" \".join(words)"
   ]
  },
  {
   "cell_type": "code",
   "execution_count": 268,
   "metadata": {},
   "outputs": [],
   "source": [
    "corpus = [preprocess(clean_text(w)) for w in D]"
   ]
  },
  {
   "cell_type": "code",
   "execution_count": 269,
   "metadata": {},
   "outputs": [
    {
     "name": "stdout",
     "output_type": "stream",
     "text": [
      "hous dem aid didnt even see comey letter jason chaffetz tweet hous dem aid didnt even see comey letter jason chaffetz tweet darrel lucus octob subscrib jason chaffetz stump american fork utah imag courtesi michael jolley avail creativ commonsbi licens apolog keith olbermann doubt worst person world weekfbi director jame comey accord hous democrat aid look like also know secondworst person well turn comey sent nowinfam letter announc fbi look email may relat hillari clinton email server rank democrat relev committe didnt hear comey found via tweet one republican committe chairmen know comey notifi republican chairmen democrat rank member hous intellig judiciari oversight committe agenc review email recent discov order see contain classifi inform long letter went oversight committe chairman jason chaffetz set polit world ablaz tweet fbi dir inform fbi learn exist email appear pertin investig case reopen jason chaffetz octob cours know case comey actual say review email light unrel casewhich know anthoni weiner sext teenag appar littl thing fact didnt matter chaffetz utah republican alreadi vow initi raft investig hillari winsat least two year worth possibl entir term worth appar chaffetz thought fbi alreadi work himresult tweet briefli roil nation cooler head realiz dud accord senior hous democrat aid misread letter may least chaffetz sin aid told shareblu boss democrat didnt even know comey letter timeand found check twitter democrat rank member relev committe didnt receiv comey letter republican chairmen fact democrat rank member receiv chairman oversight govern reform committe jason chaffetz tweet made public let see weve got right fbi director tell chaffetz gop committe chairmen major develop potenti polit explos investig neither chaffetz colleagu courtesi let democrat counterpart know instead accord aid made find twitter alreadi talk daili kos comey provid advanc notic letter chaffetz republican give time turn spin machin may make good theater noth far even suggest case noth far suggest comey anyth grossli incompet tonedeaf suggest howev chaffetz act way make dan burton darrel issa look like model respons bipartisanship didnt even decenc notifi rank member elijah cum someth explos doesnt trampl basic standard fair dont know grant like chaffetz answer sit ridicul republican district anchor provo orem cook partisan vote index r gave mitt romney punish percent vote moreov republican hous leadership given full support chaffetz plan fish expedit doesnt mean cant turn hot light textbook exampl hous becom republican control also second worst person world darrel lucus darrel someth graduat univers north carolina consid journalist old school attempt turn member religi right colleg succeed turn religi right worst nightmarea charismat christian unapologet liber desir stand scare silenc increas surviv abus threeyear marriag may know daili kos christian dem nc follow twitter connect facebook click buy darrel mello yello connect\n",
      "\n",
      "flynn hillari clinton big woman campus breitbart ever get feel life circl roundabout rather head straight line toward intend destin hillari clinton remain big woman campus leafi liber wellesley massachusett everywher els vote like inaugur dress remaind day way miss havisham forev wore wed dress speak great expect hillari rodham overflow year ago first address wellesley graduat class presid colleg inform gather student need debat far could ascertain spokesman kind like democrat primari minus term unknown even seven sister school glad miss adam made clear speak today us us miss rodham told classmat appoint edger bergen charli mccarthi mortim snerd attend bespectacl granni glass award matron wisdom least john lennon wisdom took issu previous speaker despit becom first win elect seat u senat sinc reconstruct edward brook came critic call empathi goal protestor critic tactic though clinton senior thesi saul alinski lament black power demagogu elitist arrog repress intoler within new left similar word come republican necessit brief rebutt trust rodham iron observ one word ask class rehears want say everyon came said talk trust talk lack trust us way feel other talk trust bust say say feel permeat generat perhap even understood distrust trust bust certain bust clinton plan certain even understand peopl distrust whitewat travelg vast conspiraci benghazi miss email clinton found distrust voic friday load compromis road broaden polit horizon distrust american peopl trump edg percent percent question immedi prior novemb elect stood major reason close horizon clinton describ vanquish support embrac lie con altern fact assault truth reason fail explain american peopl chose lie truth histori major among today know well peopl power invent fact attack question mark begin end free societi offer hyperbol like mani peopl emerg hillari clinton embark upon long strang trip high school goldwat girl wellesley colleg republican presid democrat politician clinton drank time place gave degre signific went idealist cynic comparison two wellesley commenc address show way back lament long leader view polit art possibl challeng practic polit art make appear imposs possibl big woman campus odd woman white hous wonder current station even possibl arent point ahead ask septemb may ask isnt presid woman famous dub congenit liar bill safir conclud lie mind get stood elect day like find jilt bride wed day inspir danger delus\n",
      "\n",
      "truth might get fire truth might get fire octob tension intellig analyst polit policymak alway honest assess desir result latter often overwhelm former iraq war write lawrenc davidson lawrenc davidson might wonder foreign polici maker repeat make bad choic insight might drawn follow analysi action play unit state lesson probabl univers back earli spring georg w bush initi invas iraq one key public reason claim countri dictat saddam hussein verg develop nuclear weapon hide weapon mass destruct real reason went beyond charg includ longrang plan regim chang middl east presid georg w bush vice presid dick cheney receiv oval offic brief cia director georg tenet also present chief staff andi card right white hous photo purpos concentr belief iraq becom hostil nuclear power presid bush close associ accept scenario readili short answer bush want inde need believ rational invad iraq first tri connect saddam hussein attack us though never gave stratagem lack evid made difficult ralli american peopl alreadi fixat afghanistan support war baghdad nuclear weapon gambit prove fruit hard evid charg suppos reliabl wit person exil antisaddam iraqi mani us govern payrol kept tell bush advis nuclear stori true us leadership cadr whose worldview liter demand mortal danger iraq inform order precipit overthrow saddam will tell tale pend atom weapon strong desir believ tale nuclear iraq lower threshold proof likewis repeat assert assum depend iraqi sourc underpin nationwid us campaign generat fear war fever us alli insist unit nation send weapon inspector scour iraq evid nuclear weapon program well chemic biolog weapon inspector could find convinc evid frustrat bush administr soon forc hand march bush launch invas iraq expect occup countri us inspector would sure find evid nuke least stockpil chemic biolog weapon iraqi inform systemat lie social behavior scienc rescu various us intellig agenc thorough shaken affair today year later director manag still tri sort specif tell get true intellig lie one intellig worker put need help protect us armi snake oil salesmen end cia et al market academ assist ahm chalabi head iraqi nation congress key supplier iraqi defector bogus stori hidden wmd partnership forg offic director nation intellig odni serv coordin center sixteen independ us intellig agenc nation academi scienc engin medicin result collabor perman intellig communiti studi board coordin program social behavior scienc research might strengthen nation secur despit effort almost certain social behavior scienc give spi agenc want way detect lie better present standard procedur polygraph test interrog even could might well make differ real problem found liar found believ believ simpli true odni leader seem assert us intellig agenc personnel tell often lie case thousand middleechelon intellig worker desk offic specialist know someth close approach truth know pretti well go place like afghanistan iraq syria libya israel palestin elsewher director nation intellig jame clapper right talk presid barack obama oval offic john brennan nation secur aid present photo credit offic director nation intellig therefor someon feed snake oil usual know howev accur grasp thing often avail superior got appoint accept prestructur worldview differ criterion true analyst listen charl gaukel nation intellig council yet anoth organ act meet ground intellig agenc refer search way avoid get taken lie gaukel declar look truth particular look truth work might mean certain tell mean histor mean power broker truth must match fit worldview polit ideolog precept fit work intellig specialist send usual accur assess line polici maker often hit roadblock caus group think ideolog blinker know better attitud hand long your sell leadership match want believ peddl anyth imaginari iraqi nuke israel westernstyl democraci saudi arabia indispens alli libya liber countri bashar alassad real roadblock peac syria strateg defens initi sdi aka star war world get colder warmer american except glori list almost endless sad tale tell us want spend million dollar social behavior scienc research improv assess use intellig forget liar want look antidot narrowminded believ policymak seem abl rise ideolog presumpt class presumpt underpin selfconfid lead us slipperi slope happen way often mani place sourc shakespear determin past prelud elit play destini free capac break structur way see yet middleechelon specialist keep send relat accur assess ladder power hope spring etern\n",
      "\n",
      "civilian kill singl us airstrik identifi video civilian kill singl us airstrik identifi rate civilian kill american airstrik afghanistan higher us engag activ combat oper photo hellfir missil load onto us militari reaper drone afghanistan staff sgt brian fergusonus air forc bureau abl identifi civilian kill singl us drone strike afghanistan last month biggest loss civilian life one strike sinc attack medecin san frontier hospit msf last octob us claim conduct counterterror strike islam state fighter hit nangarhar provinc missil septemb next day unit nation issu unusu rapid strong statement say strike kill civilian injur other gather hous celebr tribal elder return pilgrimag mecca bureau spoke man name haji rai said owner hous target said peopl kill other injur provid name list bureau abl independ verifi ident die rai son headmast local school among anoth man abdul hakim lost three son attack rai said involv deni us claim member visit hous strike said even speak sort peopl phone let alon receiv hous death amount biggest confirm loss civilian life singl american strike afghanistan sinc attack msf hospit kunduz last octob kill least peopl nangarhar strike us attack kill civilian septemb bureaus data indic mani civilian alli soldier kill four american strike afghanistan somalia month septemb pair strike kill eight afghan policemen tarinkot capit urozgan provic us jet report hit polic checkpoint kill one offic return target first respond use tactic known doubletap strike controversi often hit civilian rescuer us told bureau conduct strike individu fire pose threat afghan forc email direct address alleg afghan policemen kill end month somalia citizen burnt us flag street northcentr citi galcayo emerg drone attack may unintent kill somali soldier civilian strike occur day one nangarhar somali afghan incid us first deni noncombat kill investig strike nangarhar galcayo rate civilian kill american airstrik afghanistan higher us engag activ combat oper name\n",
      "\n",
      "iranian woman jail fiction unpublish stori woman stone death adulteri print iranian woman sentenc six year prison iran revolutionari guard search home found notebook contain fiction stori shed written woman stone death accord eurasia review golrokh ebrahimi irae wife polit prison arash sadeghi serv year prison sentenc human right activist public report intellig unit revolutionari guard came arrest husband raid apart without warrant found draft stori ebrahimi irae written articl state one confisc draft stori stone women death adulteri never publish never present anyon articl state narrat follow stori protagonist watch movi stone women islam law adulteri\n",
      "\n",
      "jacki mason hollywood would love trump bomb north korea lack tran bathroom exclus video breitbart tri time jacki mason voic reason could win left theyll fall love minut bomb better reason jacki explain like transgend toilet jacki also say surpris hollywood celebr didnt support trump strike syrian airfield month infuri say might save live doesnt mean anyth save environ climat chang theyd happiest peopl world still jacki say hes got noth hollywood celeb theyv got tough life countri watch jacki latest clip follow daniel nussbaum twitter\n",
      "\n",
      "life life luxuri elton john favorit shark pictur stare long transcontinent flight ever wonder britain icon pop pianist get long flight six pictur shark sir elton john like stare pass time airplan shark swim sit next elton john flight youll see man live lap luxuri immedi tape photo shark dart ocean window stare throughout trip platinumsel artist known pull window shade make shark disappear quick retract mark anim triumphant return often repeat act dozen time per flight great white shark leap air your intern pop sensat worth estim million peopl go extra mile make happi flight crew instruct place photo breach great white elton john seatback pocket even board plane fivetim grammi winner love pull imag leisur stare fli sometim hold mere inch away face fixat upon shark beadi eye shark prowl rumor elton john first acquir shark photo fli london perform candl wind princess diana funer stapl travel routin ever sinc flown music legend say sir elton turn everi singl overhead light row studi pictur magnifi glass two hammerhead shark man behind tini dancer rocket man handl turbul plane travers atlant fasten seat belt sign light pictur two hammerhead shark come elton john hold photo tight vice grip stare straight turbul pass often without blink minut time poster jaw sir elton john absolut ador poster steven spielberg jaw hope one day see film meantim british icon make slowli unfold byinch copi poster whenev hes long flight gentl trace shark teeth finger stare love gape mouth pilot choic much elton relish calm regular shark pictur rotat also love excit gaze upon total unexpect shark fli london distant corner europ that pilot fli sir elton print shark pictur choic home comput go airport hand visibl excit musician prior takeoff yeahit good elton\n",
      "\n",
      "benot hamon win french socialist parti presidenti nomin new york time pari franc chose idealist tradit candid sunday primari repres socialist parti presidenti elect spring candid benot hamon ran slogan would make franc heart beat best manuel vall former prime minist whose campaign promot polici strong background mr hamon appear wide margin incomplet return show estim percent vote mr vallss percent tonight left hold head high look futur mr hamon said address support countri need left modern innov left said mr hamon victori clearest sign yet voter left want break polici presid franoi holland decemb announc would seek howev mr hamon strong show unlik chang widespread assess candid littl chanc make second round vote general elect first round general elect set april runoff may socialist parti deepli divid one measur lack popular enthusiasm relat low number peopl vote two million peopl vote second round primari sunday contrast million second round last presidenti primari left howev much convent wisdom elect go thrown question past week lead candid franoi fillon repres main parti republican accus pay wife larg sum money work parliamentari aid nepot legal french polit system clear actual work prosecutor special financi malfeas review case franc elector system allow multipl candid run presid first round vote top two go second round mr hamon enter race alreadi crowd left candid includ mlenchon far left emmanuel macron independ serv economi minist mr holland govern embrac polici unless decid withdraw mr fillon mainstream right candid also run extrem right candid marin le pen two expect go runoff mr hamon victori attribut least part imag idealist tradit leftist candid appeal union voter well environment concern social liber young peopl unlik mr vall also clear distanc mr holland unpopular polici especi econom one thoma kekenbosch student one leader group youth benot hamon said mr hamon embodi new hope left perspect someth build mr kekenbosch said mr holland disappoint mani young peopl parti abandon ideal support worker mani voter believ accord mr kekenbosch mr holland govern pressur european union meet budget restraint struggl pass labor code reform make market attract foreign investor also encourag french busi expand franc measur ultim pass week strike water generat littl concret progress improv franc rough percent unemploy rate near percent youth jobless rate mr hamon strong endors stimulus approach improv economi promis phase univers incom would especi help young peopl look work would also supplement livelihood french worker end goal would everyon receiv euro per month someon trust us mr kekenbosch said say give enough pay studi scholarship spare work mcdonald provision contract year mr hamon advoc phase diesel fuel encourag driver replac vehicl use petroleum product electr one leftist pedigre began earli father work arsenal brest citi far west brittani mother work secretari earli member movement young socialist continu work close polit life also work martin aubri mayor lill former socialist parti leader\n",
      "\n",
      "excerpt draft script donald trump qampa black church pastor new york time donald j trump schedul make high anticip visit church detroit saturday first visit campaign particip session conduct bishop wayn jackson church great faith ministri intern given import visit trump team went far script mr trump answer bishop jackson question submit advanc articl publish thursday night campaign offici said mr trump would also speak church congreg tour neighborhood ben carson former presidenti candid detroit nativ excerpt draft script obtain new york time mr trump racial divid countri evid tension boil case point reverend pinckney south carolina gun white young man came bibl studi slaughter reverend eight individu want start race war would administr bring racial tension countri bibl jesus said hous divid stand best hope eras racial tension america work toward societi busi hire retain award base merit societi howev divis elimin equal opportun equal access program institut lift peopl countri reform tax system spur econom growth long haul stronger enforc immigr law renegoti trade deal bring advantag back american workforc perhap import must provid equal opportun qualiti educ american higher educ attain greater likelihood one climb econom ladder must bring school choic program citi must get rid common core must make sure access afford account brought higher educ system without focus educ outcom everi american perpetu perman underclass progress polici sustain republican like need courag speak truth done courag go communiti work everyon make sure school good children access whatev educ situat may need someth one person someth togeth mr trump percept administr racist mani african american voter belief republican parti whole cater african american need two republican candid john mccain mitt romney neither one came detroit urban area rememb even address concern communiti first would like commend come communiti republican candid second need know would chang percept communiti proof say pud come communiti meaningless unless offer altern horribl progress agenda perpetu perman underclass america need true word offer american opportun everi one reach full potenti mean econom polici bring job back america rais wage mean work hard provid mani educ option possibl parent children mean clean drug make neighborhood communiti safer need get peopl welfar back work need make sure anyon qualifi go bank get loan start busi need reduc regul expand option peopl want independ govern need make sure peopl worship want want without worri feder agenc go threaten religi liberti republican better option need courag present convict mr trump vision america specif black america repeal obama care plan provid health care medicin cant afford yet need presid must serv american without regard race ethnic qualif must approach task utmost wisdom make sure american opportun achiev potenti make america great must reduc rather highlight issu race countri want make race disappear factor govern govern everi individu regardless race ethnic must access full array opportun america vision america everi citizen legal resid nation abl stand side side proud fact live greatest nation earth afford care act work repeal act replac market driven solut offer access healthcar afford price everi american abl purchas health insur across state line health save account belong price transpar shop best servic best price know compet clog system simpli countri illeg want block grant medicaid state provid servic closer peopl want make sure everi american great econom opportun seek health insur still abl afford approach serv american ensur american cover better insur healthcar option mr trump regist democrat undecid voter elect lot pastor african american made mind concern go cast vote latest poll indic percent african american vote say undecid voter other african american communiti win vote novemb beyond win african american vote import vote import campaign vote neighbor vote vote everi american critic must make sure know vote vote stronger vibrant america polici offer clear choic continu road progressiv creat perman underclass countri unfortun includ far mani peopl color want better america must break histor hold democrat peopl color move option allow achiev potenti opportun outcom promis thing come never materi progress work tireless bring american one level rather allow mani possibl rise high possibl educ job religi liberti protect civil right promis keep utter gain favor interest greater america opportun liberti prosper must take chanc walk side want strong partner journey vote never let way support climb\n",
      "\n",
      "backchannel plan ukrain russia courtesi trump associ new york time week michael flynn resign nation secur advis seal propos offic outlin way presid trump lift sanction russia mr flynn gone caught lie discuss sanction russian ambassador propos peac plan ukrain russia remain along push michael cohen presid person lawyer deliv document felix h sater busi associ help mr trump scout deal russia ukrainian lawmak tri rise polit opposit movement shape part mr trump former campaign manag paul manafort time mr trump tie russia peopl connect heighten scrutini investig american intellig agenc f b congress associ remain will eager wade effort behind scene mr trump confound democrat republican alik repeat prais russian presid vladimir v putin desir forg allianc noth illeg unoffici effort propos seem tip toward russian interest may set alarm amateur diplomat say goal simpli help settl gruel conflict cost live doesnt want help bring peac mr cohen ask propos contain peac plan andrii v artemenko ukrainian lawmak see leader futur ukrain claim evid name compani wire transfer show corrupt ukrainian presid petro poroshenko could help oust mr artemenko said receiv encourag plan top aid mr putin lot peopl call russian agent u agent c agent mr artemenko said find good solut countri talk mr cohen mr sater said spoken mr trump propos experi foreign polici mr cohen one sever trump associ scrutini f b counterintellig examin link russia accord law enforc offici deni illicit connect two other involv effort somewhat question past mr sater plead guilti role stock manipul scheme decad ago involv mafia mr artemenko spent two half year jail kiev earli embezzl charg later drop said polit motiv unclear white hous take propos serious diplomat freelanc infuri ukrainian offici ukrain ambassador unit state valeriy chali said mr artemenko entitl present altern peac plan behalf ukrain foreign govern includ u administr secur confer munich friday mr poroshenko warn west appeas russia american expert say offer russia altern intern agreement ukrain would mistak trump administr sent mix signal conflict ukrain given mr trump prais mr putin john herbst former american ambassador ukrain said fear new presid might eager mend relat russia ukrain expens potenti plan like mr artemenko late januari three men associ propos plan converg loew regenc luxuri hotel park avenu manhattan busi deal made lobbi furnish leather couch martini restaur bar privat confer room upper floor mr cohen live two block street trump park avenu lawyer join trump organ special counsel work mani deal includ tower republ georgia mix martial art ventur star russian fighter consid loyal lieuten mr trump trust fix difficult problem f b review unverifi dossier compil former british intellig agent fund mr trump polit oppon claim mr cohen met russian repres pragu presidenti campaign discuss russia hack democrat target russian offici name report told new york time never met mr cohen mr cohen insist never visit pragu dossier assert fabric mr manafort also investig f b connect russia ukrain mr cohen person connect ukrain marri ukrainian woman work relat establish ethanol busi mr artemenko tall bur arriv manhattan hotel visit washington wife said met first ladi melania trump year ago model career tri meet mr trump attend inaugur visit congress post facebook admir mr trump talk peac plan meet american lawmak enter parliament year former ukrainian presid viktor yanukovych fled moscow amid protest econom align russia corrupt mr manafort instrument get mr yanukovych elect help shape polit bloc sprang oppos new presid mr poroshenko wealthi businessman taken far tougher stanc toward russia accus mr putin want absorb ukrain new russian empir mr artemenko emerg opposit mr manafort nurtur two men never met mr artemenko said enter polit mr artemenko busi ventur middl east real estat deal miami area work agent repres top ukrainian athlet colleagu parliament describ corrupt untrustworthi simpli insignific appear amass consider wealth fashion imag mr trump present ukrain answer rise class nationalist leader west even travel cleveland last summer republican nation convent seiz chanc meet member mr trump campaign time new leader new approach govern countri new principl new negoti intern polit wrote facebook jan time come mr artemenko said saw mr trump opportun advoc plan peac ukrain help advanc polit career essenti plan would requir withdraw russian forc eastern ukrain ukrainian voter would decid referendum whether crimea ukrainian territori seiz russia would leas russia term year ukrainian ambassador mr chali reject leas kind gross violat constitut said written answer question time idea pitch push open covert repres russian interest reaction suggest mr artemenko project also includ dissemin kompromat compromis materi purport show mr poroshenko closest associ corrupt new govern presum one less hostil russia might take plan mr sater longtim busi associ mr trump connect russia will help mr artemenko propos reach white hous mr trump sought distanc mr sater recent year mr sater sit room right mr trump said deposit realli wouldnt know look like mr sater work real estat develop deal trump organ least decad even role stock manipul scheme came light mr sater born soviet union grew new york serv execut firm call bayrock group two floor trump organ trump tower later senior advis mr trump said work plan trump tower moscow russian real estat develop recent fall one said come halt mr trump presidenti campaign mr cohen said trump organ receiv letter intent project moscow russian real estat develop time determin project feasibl mr artemenko said mutual friend put touch mr sater help advanc propos mr sater said made sens want stop war number one said number two absolut believ u russia need alli enemi could achiev one stroke would home run speak mr sater mr artemenko person mr cohen said would deliv plan white hous mr cohen said know russian govern offer encourag mr artemenko claim understood promis proof corrupt ukrainian presid fraud never good right mr cohen said said mr sater given written propos seal envelop mr cohen met mr trump oval offic earli februari said left propos mr flynn offic mr cohen said wait respons mr flynn forc post mr cohen mr sater mr artemenko hope new nation secur advis take caus friday presid wrote twitter four new candid job\n",
      "\n"
     ]
    }
   ],
   "source": [
    "for x in corpus[:10]:\n",
    "    print(x, end='\\n\\n')"
   ]
  },
  {
   "cell_type": "markdown",
   "metadata": {},
   "source": [
    " "
   ]
  },
  {
   "cell_type": "markdown",
   "metadata": {},
   "source": [
    "## Pretvorba podataka"
   ]
  },
  {
   "cell_type": "code",
   "execution_count": 270,
   "metadata": {},
   "outputs": [],
   "source": [
    "from sklearn.feature_extraction.text import TfidfVectorizer"
   ]
  },
  {
   "cell_type": "code",
   "execution_count": 271,
   "metadata": {},
   "outputs": [],
   "source": [
    "tf_idf_vec = TfidfVectorizer(max_features = 2000, ngram_range=(1, 2))\n",
    "doc_vec = tf_idf_vec.fit_transform(corpus).toarray() "
   ]
  },
  {
   "cell_type": "markdown",
   "metadata": {},
   "source": [
    "## Unakrsna provjera, treniranje i validacija modela"
   ]
  },
  {
   "cell_type": "code",
   "execution_count": 272,
   "metadata": {},
   "outputs": [],
   "source": [
    "from sklearn.model_selection import train_test_split,KFold, GridSearchCV\n",
    "from sklearn.linear_model import LogisticRegression\n",
    "from sklearn.svm import LinearSVC\n",
    "from sklearn.ensemble import RandomForestClassifier, BaggingClassifier\n",
    "from sklearn.naive_bayes import MultinomialNB\n",
    "from sklearn.linear_model import PassiveAggressiveClassifier\n",
    "from sklearn.metrics import fbeta_score, make_scorer\n",
    "from numpy import mean, std\n",
    "import numpy as np"
   ]
  },
  {
   "cell_type": "code",
   "execution_count": 273,
   "metadata": {},
   "outputs": [],
   "source": [
    "cv_inner = KFold(n_splits=3, shuffle=True, random_state=42)\n",
    "cv_outer = KFold(n_splits=5, shuffle=True, random_state=42)\n",
    "ftwo_scorer = make_scorer(fbeta_score, beta=2)\n",
    "X = doc_vec\n",
    "y = np.array(label)"
   ]
  },
  {
   "cell_type": "code",
   "execution_count": 274,
   "metadata": {},
   "outputs": [
    {
     "name": "stdout",
     "output_type": "stream",
     "text": [
      "Random forest F2 = 0.9454151352502104, std = 0.00879809972801967\n"
     ]
    }
   ],
   "source": [
    "rf = RandomForestClassifier(random_state=42)\n",
    "\n",
    "prev_f2_rf = 0\n",
    "best_rf: RandomForestClassifier\n",
    "outer_results_rf = list()\n",
    "\n",
    "for train_index, test_index in cv_outer.split(X):\n",
    "    X_train, X_test = X[train_index, :], X[test_index, :]\n",
    "    y_train, y_test = y[train_index], y[test_index]\n",
    "    search_space = dict()\n",
    "    search_space['n_estimators'] = range(10, 16)\n",
    "    search_space['max_depth'] = range(10, 16)\n",
    "    search = GridSearchCV(rf, search_space, scoring=ftwo_scorer, cv=cv_inner, refit=True, n_jobs=-1)\n",
    "    result = search.fit(X_train, y_train)\n",
    "    best = result.best_estimator_\n",
    "    pred = best.predict(X_test)\n",
    "    f2 = fbeta_score(y_test, pred, beta=2)\n",
    "    if prev_f2_rf < f2:\n",
    "        prev_f2_rf = f2\n",
    "        best_rf = best\n",
    "    outer_results_rf.append(f2)\n",
    "    \n",
    "print(f\"Random forest F2 = {mean(outer_results_rf)}, std = {std(outer_results_rf)}\")"
   ]
  },
  {
   "cell_type": "code",
   "execution_count": 275,
   "metadata": {},
   "outputs": [
    {
     "name": "stdout",
     "output_type": "stream",
     "text": [
      "Linear SVM F2 = 0.9433570988644391, std = 0.002589976986445193\n"
     ]
    }
   ],
   "source": [
    "svm = LinearSVC(random_state=42)\n",
    "\n",
    "prev_f2_svm = 0\n",
    "best_rf: SVC\n",
    "outer_results_svm = list()\n",
    "\n",
    "for train_index, test_index in cv_outer.split(X):\n",
    "    X_train, X_test = X[train_index, :], X[test_index, :]\n",
    "    y_train, y_test = y[train_index], y[test_index]\n",
    "    search_space = dict()\n",
    "    search_space['C'] = range(10, 21)\n",
    "    search = GridSearchCV(svm, search_space, scoring=ftwo_scorer, cv=cv_inner, refit=True, n_jobs=-1)\n",
    "    result = search.fit(X_train, y_train)\n",
    "    best = result.best_estimator_\n",
    "    pred = best.predict(X_test)\n",
    "    f2 = fbeta_score(y_test, pred, beta=2)\n",
    "    if prev_f2_svm < f2:\n",
    "        prev_f2_svm = f2\n",
    "        best_svm = best\n",
    "    outer_results_svm.append(f2)\n",
    "    \n",
    "print(f\"Linear SVM F2 = {mean(outer_results_svm)}, std = {std(outer_results_svm)}\")"
   ]
  },
  {
   "cell_type": "code",
   "execution_count": 276,
   "metadata": {},
   "outputs": [
    {
     "name": "stdout",
     "output_type": "stream",
     "text": [
      "Logistic regression F2 = 0.9580345074766179, std = 0.003172438194031856\n"
     ]
    }
   ],
   "source": [
    "lr = LogisticRegression(solver='lbfgs', max_iter=250)\n",
    "\n",
    "prev_f2_lr = 0\n",
    "best_lr: LogisticRegression\n",
    "outer_results_lr = list()\n",
    "\n",
    "for train_index, test_index in cv_outer.split(X):\n",
    "    X_train, X_test = X[train_index, :], X[test_index, :]\n",
    "    y_train, y_test = y[train_index], y[test_index]\n",
    "    search_space = dict()\n",
    "    search_space['C'] = range(10, 21)\n",
    "    search = GridSearchCV(lr, search_space, scoring=ftwo_scorer, cv=cv_inner, refit=True, n_jobs=-1)\n",
    "    result = search.fit(X_train, y_train)\n",
    "    best = result.best_estimator_\n",
    "    pred = best.predict(X_test)\n",
    "    f2 = fbeta_score(y_test, pred, beta=2)\n",
    "    if prev_f2_lr < f2:\n",
    "        prev_f2_lr = f2\n",
    "        best_lr = best\n",
    "    outer_results_lr.append(f2)\n",
    "    \n",
    "print(f\"Logistic regression F2 = {mean(outer_results_lr)}, std = {std(outer_results_lr)}\")"
   ]
  },
  {
   "cell_type": "code",
   "execution_count": 277,
   "metadata": {},
   "outputs": [
    {
     "name": "stdout",
     "output_type": "stream",
     "text": [
      "Multinomial Naive Bayes F2 = 0.8384531365498269, std = 0.028294127933092748\n"
     ]
    }
   ],
   "source": [
    "mnb = MultinomialNB()\n",
    "\n",
    "prev_f2_mnb= 0\n",
    "best_mnb: MultinomialNB\n",
    "outer_results_mnb = list()\n",
    "\n",
    "for train_index, test_index in cv_outer.split(X):\n",
    "    X_train, X_test = X[train_index, :], X[test_index, :]\n",
    "    y_train, y_test = y[train_index], y[test_index]\n",
    "    search_space = dict()\n",
    "    search_space['alpha'] = range(10, 21)\n",
    "    search = GridSearchCV(mnb, search_space, scoring=ftwo_scorer, cv=cv_inner, refit=True, n_jobs=-1)\n",
    "    result = search.fit(X_train, y_train)\n",
    "    best = result.best_estimator_\n",
    "    pred = best.predict(X_test)\n",
    "    f2 = fbeta_score(y_test, pred, beta=2)\n",
    "    if prev_f2_mnb < f2:\n",
    "        prev_f2_mnb = f2\n",
    "        best_mnb = best\n",
    "    outer_results_mnb.append(f2)\n",
    "    \n",
    "print(f\"Multinomial Naive Bayes F2 = {mean(outer_results_mnb)}, std = {std(outer_results_mnb)}\")"
   ]
  },
  {
   "cell_type": "code",
   "execution_count": 278,
   "metadata": {},
   "outputs": [
    {
     "name": "stdout",
     "output_type": "stream",
     "text": [
      "Passive Aggressive Classifier F2 = 0.9286890796010671, std = 0.0037521735877221614\n"
     ]
    }
   ],
   "source": [
    "pac = PassiveAggressiveClassifier()\n",
    "\n",
    "prev_f2_pac = 0\n",
    "best_pac: PassiveAggressiveClassifier\n",
    "outer_results_pac = list()\n",
    "\n",
    "for train_index, test_index in cv_outer.split(X):\n",
    "    X_train, X_test = X[train_index, :], X[test_index, :]\n",
    "    y_train, y_test = y[train_index], y[test_index]\n",
    "    search_space = dict()\n",
    "    search_space['C'] = range(10, 21)\n",
    "    search = GridSearchCV(pac, search_space, scoring=ftwo_scorer, cv=cv_inner, refit=True, n_jobs=-1)\n",
    "    result = search.fit(X_train, y_train)\n",
    "    best = result.best_estimator_\n",
    "    pred = best.predict(X_test)\n",
    "    f2 = fbeta_score(y_test, pred, beta=2)\n",
    "    if prev_f2_pac < f2:\n",
    "        prev_f2_pac = f2\n",
    "        best_pac = best\n",
    "    outer_results_pac.append(f2)\n",
    "    \n",
    "print(f\"Passive Aggressive Classifier F2 = {mean(outer_results_pac)}, std = {std(outer_results_pac)}\")"
   ]
  },
  {
   "cell_type": "markdown",
   "metadata": {},
   "source": [
    "## Predikcija "
   ]
  },
  {
   "cell_type": "code",
   "execution_count": 279,
   "metadata": {},
   "outputs": [],
   "source": [
    "test_data = pd.read_csv(\"test.csv\")\n",
    "id = test_data[\"id\"].tolist()\n",
    "test_data.fillna(\"\")\n",
    "test_data = test_data.drop([\"id\", \"author\"], axis=1)\n",
    "test_data[\"title_and_text\"] = test_data[\"title\"] + \" \" + test_data[\"text\"]\n",
    "D_test_data = test_data[\"title_and_text\"].tolist()"
   ]
  },
  {
   "cell_type": "code",
   "execution_count": 280,
   "metadata": {},
   "outputs": [],
   "source": [
    "test_corpus = [preprocess(clean_text(w)) for w in D_test_data]"
   ]
  },
  {
   "cell_type": "code",
   "execution_count": 281,
   "metadata": {},
   "outputs": [],
   "source": [
    "tf_idf_vec_test = TfidfVectorizer(max_features = 2000, ngram_range=(1, 2))\n",
    "doc_vec_test = tf_idf_vec_test.fit_transform(test_corpus).toarray() "
   ]
  },
  {
   "cell_type": "code",
   "execution_count": 289,
   "metadata": {},
   "outputs": [],
   "source": [
    "models = [best_rf, best_svm, best_lr, best_mnb, best_pac]\n",
    "predictions = ['rf_prediction', 'svm_prediction', 'lr_prediction', 'mnb_prediction', 'pac_prediction']"
   ]
  },
  {
   "cell_type": "code",
   "execution_count": 291,
   "metadata": {},
   "outputs": [],
   "source": [
    "for model, name in zip(models, predictions):\n",
    "    pd.DataFrame(list(zip(id, model.predict(doc_vec_test))), \n",
    "                 columns =['id', 'label']).to_csv(name + '.csv', index=False)"
   ]
  }
 ],
 "metadata": {
  "kernelspec": {
   "display_name": "Python 3",
   "language": "python",
   "name": "python3"
  },
  "language_info": {
   "codemirror_mode": {
    "name": "ipython",
    "version": 3
   },
   "file_extension": ".py",
   "mimetype": "text/x-python",
   "name": "python",
   "nbconvert_exporter": "python",
   "pygments_lexer": "ipython3",
   "version": "3.8.5"
  }
 },
 "nbformat": 4,
 "nbformat_minor": 4
}
